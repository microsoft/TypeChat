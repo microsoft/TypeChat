{
 "cells": [
  {
   "cell_type": "code",
   "execution_count": null,
   "metadata": {},
   "outputs": [],
   "source": [
    "%pip install --upgrade setuptools\n",
    "%pip install --upgrade gradio"
   ]
  },
  {
   "cell_type": "code",
   "execution_count": null,
   "metadata": {},
   "outputs": [],
   "source": [
    "import json\n",
    "\n",
    "\n",
    "import sys\n",
    "from dotenv import dotenv_values\n",
    "\n",
    "import os\n",
    "import sys\n",
    "module_path = os.path.abspath(os.path.join('..'))\n",
    "if module_path not in sys.path:\n",
    "    sys.path.append(module_path)\n",
    "\n",
    "from examples.sentiment import schema as sentiment\n",
    "from typechat import Failure, TypeChatJsonTranslator, TypeChatValidator, create_language_model"
   ]
  },
  {
   "cell_type": "code",
   "execution_count": null,
   "metadata": {},
   "outputs": [],
   "source": [
    "env_vals = dotenv_values()\n",
    "model = create_language_model(env_vals)\n",
    "validator = TypeChatValidator(sentiment.Sentiment)\n",
    "translator = TypeChatJsonTranslator(model, validator, sentiment.Sentiment)"
   ]
  },
  {
   "cell_type": "code",
   "execution_count": null,
   "metadata": {},
   "outputs": [],
   "source": [
    "async def get_translation(message, history):\n",
    "    result = await translator.translate(message)\n",
    "    if isinstance(result, Failure):\n",
    "        return f\"Translation Failed ❌ \\n Context: {result.message}\"\n",
    "    else:\n",
    "        result = result.value\n",
    "        return f\"Translation Succeeded! ✅\\n The sentiment is {result['sentiment']}\""
   ]
  },
  {
   "cell_type": "code",
   "execution_count": null,
   "metadata": {},
   "outputs": [],
   "source": [
    "import setuptools\n",
    "import gradio as gr\n",
    "\n",
    "gr.ChatInterface(get_translation, title=\"😀 Sentiment\").launch()\n"
   ]
  },
  {
   "cell_type": "code",
   "execution_count": null,
   "metadata": {},
   "outputs": [],
   "source": []
  }
 ],
 "metadata": {
  "kernelspec": {
   "display_name": "Python 3 (ipykernel)",
   "language": "python",
   "name": "python3"
  },
  "language_info": {
   "codemirror_mode": {
    "name": "ipython",
    "version": 3
   },
   "file_extension": ".py",
   "mimetype": "text/x-python",
   "name": "python",
   "nbconvert_exporter": "python",
   "pygments_lexer": "ipython3",
   "version": "3.12.0"
  }
 },
 "nbformat": 4,
 "nbformat_minor": 4
}
