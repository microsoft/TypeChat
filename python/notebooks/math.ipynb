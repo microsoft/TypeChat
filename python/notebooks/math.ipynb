{
 "cells": [
  {
   "cell_type": "code",
   "execution_count": null,
   "metadata": {},
   "outputs": [],
   "source": [
    "%pip install --upgrade setuptools\n",
    "%pip install --upgrade gradio"
   ]
  },
  {
   "cell_type": "code",
   "execution_count": null,
   "metadata": {},
   "outputs": [],
   "source": [
    "import json\n",
    "import setuptools\n",
    "\n",
    "import os\n",
    "import sys\n",
    "module_path = os.path.abspath(os.path.join('..'))\n",
    "if module_path not in sys.path:\n",
    "    sys.path.append(module_path)"
   ]
  },
  {
   "cell_type": "code",
   "execution_count": null,
   "metadata": {},
   "outputs": [],
   "source": [
    "from dotenv import dotenv_values\n",
    "from typechat import Failure, create_language_model\n",
    "from examples.math.program import TypeChatProgramTranslator, TypeChatProgramValidator, evaluate_json_program\n",
    "from examples.math import schema as math"
   ]
  },
  {
   "cell_type": "code",
   "execution_count": null,
   "metadata": {},
   "outputs": [],
   "source": [
    "env_vals = dotenv_values()\n",
    "model = create_language_model(env_vals)\n",
    "validator = TypeChatProgramValidator()\n",
    "translator = TypeChatProgramTranslator(model, validator, math.MathAPI)"
   ]
  },
  {
   "cell_type": "code",
   "execution_count": null,
   "metadata": {},
   "outputs": [],
   "source": [
    "import pandas\n",
    "async def handleCall(func:str, args: list[int|float]) -> int|float:\n",
    "    print(f\"{func}({json.dumps(args)}) \")\n",
    "    match func:\n",
    "        case \"add\":\n",
    "            return args[0] + args[1]\n",
    "        case \"sub\":\n",
    "            return args[0] - args[1]\n",
    "        case \"mul\":\n",
    "            return args[0] * args[1]\n",
    "        case \"div\":\n",
    "            return args[0] / args[1]\n",
    "        case \"neg\":\n",
    "            return -1 * args[0]\n",
    "        case \"id\":\n",
    "            return args[0]\n",
    "        case _:\n",
    "            raise ValueError(f'Unexpected function name {func}')\n",
    "        \n",
    "async def get_translation(message, history):\n",
    "    result = await translator.translate(message)\n",
    "    if isinstance(result, Failure):\n",
    "        return f\"Translation Failed ❌ \\n Context: {result.message}\"\n",
    "    else:\n",
    "        result = result.value\n",
    "        math_result = await evaluate_json_program(result, handleCall)\n",
    "        df = pandas.DataFrame.from_dict(result[\"@steps\"])\n",
    "        return f\"Translation Succeeded! ✅\\n Here is a table of operations needed to get the answer \\n ``` {df.fillna('').to_markdown(tablefmt='grid')} \\n ```  \\n Math Result: {math_result}\"\n",
    "\n",
    "\n",
    "def get_examples():\n",
    "    example_prompts = []\n",
    "    with open('../examples/math/input.txt') as prompts_file:\n",
    "        for line in prompts_file:\n",
    "            example_prompts.append(line)\n",
    "    return example_prompts"
   ]
  },
  {
   "cell_type": "code",
   "execution_count": null,
   "metadata": {},
   "outputs": [],
   "source": [
    "import gradio as gr\n",
    "\n",
    "gr.ChatInterface(get_translation, title=\"🧮 Math\", examples=get_examples()).launch()\n"
   ]
  },
  {
   "cell_type": "code",
   "execution_count": null,
   "metadata": {},
   "outputs": [],
   "source": []
  }
 ],
 "metadata": {
  "kernelspec": {
   "display_name": "Python 3 (ipykernel)",
   "language": "python",
   "name": "python3"
  },
  "language_info": {
   "codemirror_mode": {
    "name": "ipython",
    "version": 3
   },
   "file_extension": ".py",
   "mimetype": "text/x-python",
   "name": "python",
   "nbconvert_exporter": "python",
   "pygments_lexer": "ipython3",
   "version": "3.12.0"
  }
 },
 "nbformat": 4,
 "nbformat_minor": 4
}
